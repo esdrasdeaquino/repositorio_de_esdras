{
 "cells": [
  {
   "cell_type": "markdown",
   "metadata": {},
   "source": [
    "# Introdução à Ciência de Dados - UFPB\n",
    "Professor: Yuri Malheiros\n",
    "\n",
    "## Regressão Linear - Exercício"
   ]
  },
  {
   "cell_type": "markdown",
   "metadata": {},
   "source": [
    "Utilizando o dataset dos filmes, aplique a regressão linear para predizer o `US Gross` de acordo com o `Production Budget`."
   ]
  },
  {
   "cell_type": "markdown",
   "metadata": {},
   "source": [
    "Primeiro carregue os dados:"
   ]
  },
  {
   "cell_type": "code",
   "execution_count": 60,
   "metadata": {},
   "outputs": [
    {
     "data": {
      "text/html": [
       "<div>\n",
       "<style scoped>\n",
       "    .dataframe tbody tr th:only-of-type {\n",
       "        vertical-align: middle;\n",
       "    }\n",
       "\n",
       "    .dataframe tbody tr th {\n",
       "        vertical-align: top;\n",
       "    }\n",
       "\n",
       "    .dataframe thead th {\n",
       "        text-align: right;\n",
       "    }\n",
       "</style>\n",
       "<table border=\"1\" class=\"dataframe\">\n",
       "  <thead>\n",
       "    <tr style=\"text-align: right;\">\n",
       "      <th></th>\n",
       "      <th>Title</th>\n",
       "      <th>US Gross</th>\n",
       "      <th>Worldwide Gross</th>\n",
       "      <th>US DVD Sales</th>\n",
       "      <th>Production Budget</th>\n",
       "      <th>Release Date</th>\n",
       "      <th>MPAA Rating</th>\n",
       "      <th>Running Time (min)</th>\n",
       "      <th>Distributor</th>\n",
       "      <th>Source</th>\n",
       "      <th>Major Genre</th>\n",
       "      <th>Creative Type</th>\n",
       "      <th>Director</th>\n",
       "      <th>Rotten Tomatoes Rating</th>\n",
       "      <th>IMDB Rating</th>\n",
       "      <th>IMDB Votes</th>\n",
       "    </tr>\n",
       "  </thead>\n",
       "  <tbody>\n",
       "    <tr>\n",
       "      <th>0</th>\n",
       "      <td>The Land Girls</td>\n",
       "      <td>146083.0</td>\n",
       "      <td>146083.0</td>\n",
       "      <td>NaN</td>\n",
       "      <td>8000000.0</td>\n",
       "      <td>12-Jun-98</td>\n",
       "      <td>R</td>\n",
       "      <td>NaN</td>\n",
       "      <td>Gramercy</td>\n",
       "      <td>NaN</td>\n",
       "      <td>NaN</td>\n",
       "      <td>NaN</td>\n",
       "      <td>NaN</td>\n",
       "      <td>NaN</td>\n",
       "      <td>6.1</td>\n",
       "      <td>1071.0</td>\n",
       "    </tr>\n",
       "    <tr>\n",
       "      <th>1</th>\n",
       "      <td>First Love, Last Rites</td>\n",
       "      <td>10876.0</td>\n",
       "      <td>10876.0</td>\n",
       "      <td>NaN</td>\n",
       "      <td>300000.0</td>\n",
       "      <td>7-Aug-98</td>\n",
       "      <td>R</td>\n",
       "      <td>NaN</td>\n",
       "      <td>Strand</td>\n",
       "      <td>NaN</td>\n",
       "      <td>Drama</td>\n",
       "      <td>NaN</td>\n",
       "      <td>NaN</td>\n",
       "      <td>NaN</td>\n",
       "      <td>6.9</td>\n",
       "      <td>207.0</td>\n",
       "    </tr>\n",
       "    <tr>\n",
       "      <th>2</th>\n",
       "      <td>I Married a Strange Person</td>\n",
       "      <td>203134.0</td>\n",
       "      <td>203134.0</td>\n",
       "      <td>NaN</td>\n",
       "      <td>250000.0</td>\n",
       "      <td>28-Aug-98</td>\n",
       "      <td>NaN</td>\n",
       "      <td>NaN</td>\n",
       "      <td>Lionsgate</td>\n",
       "      <td>NaN</td>\n",
       "      <td>Comedy</td>\n",
       "      <td>NaN</td>\n",
       "      <td>NaN</td>\n",
       "      <td>NaN</td>\n",
       "      <td>6.8</td>\n",
       "      <td>865.0</td>\n",
       "    </tr>\n",
       "    <tr>\n",
       "      <th>3</th>\n",
       "      <td>Let's Talk About Sex</td>\n",
       "      <td>373615.0</td>\n",
       "      <td>373615.0</td>\n",
       "      <td>NaN</td>\n",
       "      <td>300000.0</td>\n",
       "      <td>11-Sep-98</td>\n",
       "      <td>NaN</td>\n",
       "      <td>NaN</td>\n",
       "      <td>Fine Line</td>\n",
       "      <td>NaN</td>\n",
       "      <td>Comedy</td>\n",
       "      <td>NaN</td>\n",
       "      <td>NaN</td>\n",
       "      <td>13.0</td>\n",
       "      <td>NaN</td>\n",
       "      <td>NaN</td>\n",
       "    </tr>\n",
       "    <tr>\n",
       "      <th>4</th>\n",
       "      <td>Slam</td>\n",
       "      <td>1009819.0</td>\n",
       "      <td>1087521.0</td>\n",
       "      <td>NaN</td>\n",
       "      <td>1000000.0</td>\n",
       "      <td>9-Oct-98</td>\n",
       "      <td>R</td>\n",
       "      <td>NaN</td>\n",
       "      <td>Trimark</td>\n",
       "      <td>Original Screenplay</td>\n",
       "      <td>Drama</td>\n",
       "      <td>Contemporary Fiction</td>\n",
       "      <td>NaN</td>\n",
       "      <td>62.0</td>\n",
       "      <td>3.4</td>\n",
       "      <td>165.0</td>\n",
       "    </tr>\n",
       "  </tbody>\n",
       "</table>\n",
       "</div>"
      ],
      "text/plain": [
       "                        Title   US Gross  Worldwide Gross  US DVD Sales  \\\n",
       "0              The Land Girls   146083.0         146083.0           NaN   \n",
       "1      First Love, Last Rites    10876.0          10876.0           NaN   \n",
       "2  I Married a Strange Person   203134.0         203134.0           NaN   \n",
       "3        Let's Talk About Sex   373615.0         373615.0           NaN   \n",
       "4                        Slam  1009819.0        1087521.0           NaN   \n",
       "\n",
       "   Production Budget Release Date MPAA Rating  Running Time (min) Distributor  \\\n",
       "0          8000000.0    12-Jun-98           R                 NaN    Gramercy   \n",
       "1           300000.0     7-Aug-98           R                 NaN      Strand   \n",
       "2           250000.0    28-Aug-98         NaN                 NaN   Lionsgate   \n",
       "3           300000.0    11-Sep-98         NaN                 NaN   Fine Line   \n",
       "4          1000000.0     9-Oct-98           R                 NaN     Trimark   \n",
       "\n",
       "                Source Major Genre         Creative Type Director  \\\n",
       "0                  NaN         NaN                   NaN      NaN   \n",
       "1                  NaN       Drama                   NaN      NaN   \n",
       "2                  NaN      Comedy                   NaN      NaN   \n",
       "3                  NaN      Comedy                   NaN      NaN   \n",
       "4  Original Screenplay       Drama  Contemporary Fiction      NaN   \n",
       "\n",
       "   Rotten Tomatoes Rating  IMDB Rating  IMDB Votes  \n",
       "0                     NaN          6.1      1071.0  \n",
       "1                     NaN          6.9       207.0  \n",
       "2                     NaN          6.8       865.0  \n",
       "3                    13.0          NaN         NaN  \n",
       "4                    62.0          3.4       165.0  "
      ]
     },
     "execution_count": 60,
     "metadata": {},
     "output_type": "execute_result"
    }
   ],
   "source": [
    "import pandas as pd\n",
    "movies = pd.read_csv(\"movies.csv\")\n",
    "movies.head()"
   ]
  },
  {
   "cell_type": "markdown",
   "metadata": {},
   "source": [
    "Visualize os dados com um gráfico de dispersão:"
   ]
  },
  {
   "cell_type": "code",
   "execution_count": 64,
   "metadata": {},
   "outputs": [
    {
     "data": {
      "text/plain": [
       "Text(0, 0.5, 'Arrecadação')"
      ]
     },
     "execution_count": 64,
     "metadata": {},
     "output_type": "execute_result"
    },
    {
     "data": {
      "image/png": "[encoded data removed]",
      "text/plain": [
       "<Figure size 432x288 with 1 Axes>"
      ]
     },
     "metadata": {
      "needs_background": "light"
     },
     "output_type": "display_data"
    }
   ],
   "source": [
    "import matplotlib.pyplot as plt\n",
    "\n",
    "plt.scatter(movies[\"Production Budget\"],movies[\"US Gross\"],alpha=0.50)\n",
    "plt.xlabel(\"Gasto de produção\")\n",
    "plt.ylabel(\"Arrecadação\")"
   ]
  },
  {
   "cell_type": "markdown",
   "metadata": {},
   "source": [
    "Use a regressão linear para encontrar os coeficientes a e b:"
   ]
  },
  {
   "cell_type": "code",
   "execution_count": 175,
   "metadata": {},
   "outputs": [
    {
     "name": "stdout",
     "output_type": "stream",
     "text": [
      "a = 1.0953173515941526 b =  9927198.264811307\n"
     ]
    }
   ],
   "source": [
    "from scipy.stats import linregress\n",
    "\n",
    "values = linregress(movies[\"Production Budget\"].fillna(movies[\"Production Budget\"].median()),movies[\"US Gross\"].fillna(movies[\"US Gross\"].median()))\n",
    "a = values.slope\n",
    "b = values.intercept\n",
    "print(\"a =\", a,\"b = \",b)\n"
   ]
  },
  {
   "cell_type": "markdown",
   "metadata": {},
   "source": [
    "Utilize a função `show_regression` abaixo para visualizar o resultado da regressão linear. Nesta função, você deve passar as coordenadas x dos pontos, as coordenadas y, o coeficiente a e o coeficiente b."
   ]
  },
  {
   "cell_type": "code",
   "execution_count": 176,
   "metadata": {},
   "outputs": [],
   "source": [
    "#### NÃO ALTERAR ESSE CÓDIGO ####\n",
    "\n",
    "import matplotlib.pyplot as plt\n",
    "\n",
    "def gen_line(x_min, x_max, n_points, a, b):\n",
    "    interval = x_max-x_min\n",
    "    interval_value = interval/n_points\n",
    "    \n",
    "    x_result = []\n",
    "    y_result = []\n",
    "\n",
    "    for i in range(n_points):\n",
    "        current_x = x_min+i*interval_value\n",
    "        x_result.append(current_x)\n",
    "        y_result.append(a*current_x + b)\n",
    "        \n",
    "    return x_result, y_result\n",
    "\n",
    "def show_regression(x, y, a, b):\n",
    "    N = 100\n",
    "\n",
    "    plt.scatter(x, y)\n",
    "\n",
    "    line_1 = gen_line(min(x), max(x), N, a, b)\n",
    "    plt.plot(line_1[0], line_1[1], c= \"red\")\n",
    "\n",
    "    plt.gca()\n",
    "    plt.show()"
   ]
  },
  {
   "cell_type": "markdown",
   "metadata": {},
   "source": [
    "Exemplo de uso da função:"
   ]
  },
  {
   "cell_type": "code",
   "execution_count": 177,
   "metadata": {},
   "outputs": [
    {
     "data": {
      "image/png": "[encoded data removed]",
      "text/plain": [
       "<Figure size 432x288 with 1 Axes>"
      ]
     },
     "metadata": {
      "needs_background": "light"
     },
     "output_type": "display_data"
    }
   ],
   "source": [
    "show_regression(movies[\"Production Budget\"], movies[\"US Gross\"], a, b)"
   ]
  },
  {
   "cell_type": "markdown",
   "metadata": {},
   "source": [
    "A função `predict` recebe um production budget de um filme e retorna a predição do US Gross para ele:"
   ]
  },
  {
   "cell_type": "code",
   "execution_count": 179,
   "metadata": {},
   "outputs": [],
   "source": [
    "def predict(production_budget):\n",
    "    \"\"\"\n",
    "    >>> f'{predict(100000):.2f}'\n",
    "    '10006058.40'\n",
    "    \n",
    "    >>> f'{predict(1000000):.2f}'\n",
    "    10992208.78'\n",
    "\n",
    "    >>> f'{predict(5000000):.2f}'\n",
    "    '15375099.36'\n",
    "    \"\"\"\n",
    "    predicao = (production_budget * a) + b\n",
    "    return predicao\n"
   ]
  },
  {
   "cell_type": "markdown",
   "metadata": {},
   "source": [
    "## Teste"
   ]
  },
  {
   "cell_type": "code",
   "execution_count": 180,
   "metadata": {},
   "outputs": [
    {
     "name": "stdout",
     "output_type": "stream",
     "text": [
      "Trying:\n",
      "    f'{predict(100000):.2f}'\n",
      "Expecting:\n",
      "    '10006058.40'\n",
      "**********************************************************************\n",
      "File \"__main__\", line 3, in __main__.predict\n",
      "Failed example:\n",
      "    f'{predict(100000):.2f}'\n",
      "Expected:\n",
      "    '10006058.40'\n",
      "Got:\n",
      "    '10036730.00'\n",
      "Trying:\n",
      "    f'{predict(1000000):.2f}'\n",
      "Expecting:\n",
      "    10992208.78'\n",
      "**********************************************************************\n",
      "File \"__main__\", line 6, in __main__.predict\n",
      "Failed example:\n",
      "    f'{predict(1000000):.2f}'\n",
      "Expected:\n",
      "    10992208.78'\n",
      "Got:\n",
      "    '11022515.62'\n",
      "Trying:\n",
      "    f'{predict(5000000):.2f}'\n",
      "Expecting:\n",
      "    '15375099.36'\n",
      "**********************************************************************\n",
      "File \"__main__\", line 9, in __main__.predict\n",
      "Failed example:\n",
      "    f'{predict(5000000):.2f}'\n",
      "Expected:\n",
      "    '15375099.36'\n",
      "Got:\n",
      "    '15403785.02'\n",
      "3 items had no tests:\n",
      "    __main__\n",
      "    __main__.gen_line\n",
      "    __main__.show_regression\n",
      "**********************************************************************\n",
      "1 items had failures:\n",
      "   3 of   3 in __main__.predict\n",
      "3 tests in 4 items.\n",
      "0 passed and 3 failed.\n",
      "***Test Failed*** 3 failures.\n"
     ]
    },
    {
     "data": {
      "text/plain": [
       "TestResults(failed=3, attempted=3)"
      ]
     },
     "execution_count": 180,
     "metadata": {},
     "output_type": "execute_result"
    }
   ],
   "source": [
    "import doctest\n",
    "\n",
    "doctest.testmod(verbose=True)"
   ]
  }
 ],
 "metadata": {
  "kernelspec": {
   "display_name": "Python 3",
   "language": "python",
   "name": "python3"
  },
  "language_info": {
   "codemirror_mode": {
    "name": "ipython",
    "version": 3
   },
   "file_extension": ".py",
   "mimetype": "text/x-python",
   "name": "python",
   "nbconvert_exporter": "python",
   "pygments_lexer": "ipython3",
   "version": "3.6.11"
  }
 },
 "nbformat": 4,
 "nbformat_minor": 4
}
